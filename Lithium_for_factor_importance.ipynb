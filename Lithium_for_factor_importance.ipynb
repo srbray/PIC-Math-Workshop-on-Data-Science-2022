{
  "nbformat": 4,
  "nbformat_minor": 0,
  "metadata": {
    "colab": {
      "name": "Copy of Lithium for factor importance.ipynb",
      "provenance": [],
      "authorship_tag": "ABX9TyODKjQt6dWC+0stO1o9n8jX",
      "include_colab_link": true
    },
    "kernelspec": {
      "name": "python3",
      "display_name": "Python 3"
    },
    "language_info": {
      "name": "python"
    }
  },
  "cells": [
    {
      "cell_type": "markdown",
      "metadata": {
        "id": "view-in-github",
        "colab_type": "text"
      },
      "source": [
        "<a href=\"https://colab.research.google.com/github/srbray/PIC-Math-Workshop-on-Data-Science-2022/blob/main/Lithium_for_factor_importance.ipynb\" target=\"_parent\"><img src=\"https://colab.research.google.com/assets/colab-badge.svg\" alt=\"Open In Colab\"/></a>"
      ]
    },
    {
      "cell_type": "code",
      "execution_count": null,
      "metadata": {
        "colab": {
          "base_uri": "https://localhost:8080/",
          "height": 339
        },
        "id": "X21IvR6Xtx0u",
        "outputId": "8f21c59e-0a4b-47be-dcc8-d6ca8768ce07"
      },
      "outputs": [
        {
          "output_type": "execute_result",
          "data": {
            "text/plain": [
              "<matplotlib.axes._subplots.AxesSubplot at 0x7fdd88274e10>"
            ]
          },
          "metadata": {},
          "execution_count": 5
        },
        {
          "output_type": "display_data",
          "data": {
            "text/plain": [
              "<Figure size 432x288 with 1 Axes>"
            ],
            "image/png": "[encoded data removed]"
          },
          "metadata": {
            "needs_background": "light"
          }
        }
      ],
      "source": [
        "# install package\n",
        "# using for variable encoding\n",
        "\n",
        "try:\n",
        "    import chemparse\n",
        "except:\n",
        "    !pip install chemparse\n",
        "    print('May need to restart kernel to use chemparse')\n",
        "\n",
        "import pandas as pd\n",
        "import matplotlib.pyplot as plt\n",
        "%matplotlib inline\n",
        "import seaborn as sns\n",
        "import plotly.express as px\n",
        "\n",
        "url = 'https://raw.githubusercontent.com/rcpaffenroth/PIC-Math-Workshop-on-Data-Science-2022/main/data/lithium_ion_data.csv'\n",
        "data = pd.read_csv(url)\n",
        "data.sample(20)\n",
        "\n",
        "#drop non-useful data\n",
        "data.drop(columns=['Materials Id'],inplace=True)\n",
        "data.columns\n",
        "\n",
        "#Feature Engineering\n",
        "# One-hot encode 'Has Bandstructure'\n",
        "data['Has Bandstructure'] = data['Has Bandstructure'].map({True:1, False:0})\n",
        "\n",
        "\n",
        "data['Formula'].value_counts()\n",
        "# Option 4: use chemparse package to create the new features of atom counts\n",
        "import chemparse\n",
        "chem_data = data['Formula'].apply(chemparse.parse_formula)\n",
        "\n",
        "# Convert the dictionary into a dataframe and fill NaN's with zero's\n",
        "chem_data = pd.json_normalize(chem_data)\n",
        "chem_data = chem_data.fillna(0)\n",
        "\n",
        "data = data.join(chem_data)\n",
        "\n",
        "# Encode Crystal System to ordinal values for multi-class problem\n",
        "data['Crystal System (#)'] = data['Crystal System'].map({'monoclinic':0, 'orthorhombic':1, 'triclinic':2})\n",
        "\n",
        "# All new numerical features (Crystal System excluded, since it's int32)\n",
        "features = list(data.select_dtypes(include=['int64','float64']).columns.values)\n",
        "labels = ['Crystal System (#)']\n",
        "\n",
        "#Creating Balanced Data St\n",
        "monoclinic_data=data[data['Crystal System'] == 'monoclinic']\n",
        "orthorhombic_data=data[data['Crystal System'] == 'orthorhombic']\n",
        "triclinic_data=data[data['Crystal System'] == 'triclinic']\n",
        "\n",
        "monoclinic_data_sampled = monoclinic_data.sample(n=len(triclinic_data))\n",
        "orthorhombic_data_sampled = orthorhombic_data.sample(n=len(triclinic_data))\n",
        "\n",
        "data_rebalanced=triclinic_data.append(monoclinic_data_sampled).append(orthorhombic_data_sampled).reset_index(drop=True)\n",
        "\n",
        "# Check for balance\n",
        "data_rebalanced['Crystal System'].value_counts().plot(kind='bar')\n"
      ]
    },
    {
      "cell_type": "code",
      "source": [
        "#Run Random Forest\n",
        "from sklearn.metrics import accuracy_score, f1_score, precision_score, recall_score\n",
        "from sklearn.ensemble import RandomForestClassifier\n",
        "from sklearn.model_selection import train_test_split\n",
        "train,test = train_test_split(data, test_size=0.2, shuffle=True, random_state=10)\n",
        "X = data[features]\n",
        "y = data[labels]\n",
        "#80% training data and 20% testing\n",
        "Xtrain, Xtest, ytrain, ytest = train_test_split(X, y, test_size=0.2,shuffle=True, random_state=1)\n",
        "\n",
        "# change to your selected model\n",
        "model = RandomForestClassifier(n_estimators=100)\n",
        "\n",
        "\n",
        "model.fit(Xtrain,ytrain)\n",
        "yp4 = model.predict(Xtest)\n",
        "    \n",
        "titles4 = ['all but spacegroup']\n",
        "accuracy=accuracy_score(yp4,ytest)\n",
        "\n",
        "macro_precision=precision_score(yp4,ytest,average='macro')\n",
        "micro_precision=precision_score(yp4,ytest,average='micro')\n",
        "\n",
        "macro_recall=recall_score(yp4,ytest,average='macro')\n",
        "micro_recall=recall_score(yp4,ytest,average='micro')\n",
        "\n",
        "macro_f1=f1_score(yp4,ytest,average='macro')\n",
        "micro_f1=f1_score(yp4,ytest,average='micro')\n",
        "\n",
        "from tabulate import tabulate\n",
        "results = [\n",
        "[\"accuracy\", accuracy],\n",
        "[\"macro_precision\", macro_precision],\n",
        "[\"micro_precision\",micro_precision],\n",
        "[\"macro_recall\",macro_recall],\n",
        "[\"micro_recall\",micro_recall],\n",
        "[\"macro_f1\",macro_f1],\n",
        "[\"micro_f1\",micro_f1],\n",
        "] \n",
        "print (tabulate(results, headers=[\"Metrics\", \"Values\"]))\n",
        "#results.append([titles4[i],accuracy,macro_precision,micro_precision,macro_recall,micro_recall,macro_f1,micro_f1])\n",
        "#print (tabulate(results, headers=[\"features\", \"accuracy\", \"macro_precision\", \"micro_precision\", \"macro_recall\", \"micro_recall\", \"macro_f1\", \"micro_f1\"],tablefmt=\"grid\"))\n"
      ],
      "metadata": {
        "colab": {
          "base_uri": "https://localhost:8080/"
        },
        "id": "ZhMdPjYctykJ",
        "outputId": "042ea578-e978-4072-a5c4-2c7896c25fa9"
      },
      "execution_count": null,
      "outputs": [
        {
          "output_type": "stream",
          "name": "stderr",
          "text": [
            "/usr/local/lib/python3.7/dist-packages/ipykernel_launcher.py:15: DataConversionWarning: A column-vector y was passed when a 1d array was expected. Please change the shape of y to (n_samples,), for example using ravel().\n",
            "  from ipykernel import kernelapp as app\n"
          ]
        },
        {
          "output_type": "stream",
          "name": "stdout",
          "text": [
            "Metrics            Values\n",
            "---------------  --------\n",
            "accuracy         0.985294\n",
            "macro_precision  0.984848\n",
            "micro_precision  0.985294\n",
            "macro_recall     0.982456\n",
            "micro_recall     0.985294\n",
            "macro_f1         0.983239\n",
            "micro_f1         0.985294\n"
          ]
        }
      ]
    },
    {
      "cell_type": "code",
      "source": [
        ""
      ],
      "metadata": {
        "id": "dBpekQhR5Xvw"
      },
      "execution_count": null,
      "outputs": []
    },
    {
      "cell_type": "code",
      "source": [
        "\n",
        "# random forest for feature importance on a classification problem\n",
        "from sklearn.datasets import make_classification\n",
        "from sklearn.ensemble import RandomForestClassifier\n",
        "from matplotlib import pyplot\n",
        "\n",
        "# define the model\n",
        "model = RandomForestClassifier()\n",
        "# fit the model\n",
        "model.fit(X, y)\n",
        "# get importance\n",
        "importance = model.feature_importances_\n",
        "# summarize feature importance\n",
        "for i,v in enumerate(importance):\n",
        "\tprint('Feature: %0d, Score: %.5f' % (i,v))\n",
        "# plot feature importance\n",
        "pyplot.bar([x for x in range(len(importance))], importance)\n",
        "pyplot.show()"
      ],
      "metadata": {
        "id": "-Pap1dSi1Y9S"
      },
      "execution_count": null,
      "outputs": []
    },
    {
      "cell_type": "code",
      "source": [
        ""
      ],
      "metadata": {
        "id": "HJgLLqIa5aJt"
      },
      "execution_count": null,
      "outputs": []
    }
  ]
}